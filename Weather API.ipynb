{
 "cells": [
  {
   "cell_type": "markdown",
   "metadata": {},
   "source": [
    "Your objective is to build a series of scatter plots to showcase the following relationships:\n",
    "\n",
    "* Temperature (F) vs. Latitude\n",
    "* Humidity (%) vs. Latitude\n",
    "* Cloudiness (%) vs. Latitude\n",
    "* Wind Speed (mph) vs. Latitude\n",
    "\n",
    "* Randomly select **at least** 500 unique (non-repeat) cities based on latitude and longitude.\n",
    "* Perform a weather check on each of the cities using a series of successive API calls. \n",
    "* Include a print log of each city as it's being processed with the city number, city name, and requested URL.\n",
    "* Save both a CSV of all data retrieved and png images for each scatter plot."
   ]
  },
  {
   "cell_type": "code",
   "execution_count": 54,
   "metadata": {},
   "outputs": [],
   "source": [
    "# Dependencies\n",
    "import json\n",
    "import requests\n",
    "import random\n",
    "import os\n",
    "import csv\n",
    "\n",
    "from config import api_key\n",
    "from citipy import citipy\n",
    "from pprint import pprint"
   ]
  },
  {
   "cell_type": "code",
   "execution_count": 61,
   "metadata": {},
   "outputs": [],
   "source": [
    "with open('cities_url_log.csv', 'w', newline='') as newfile:\n",
    "        \n",
    "    #initialize csv writer\n",
    "    csvwriter = csv.writer(newfile, delimiter=',')\n",
    "\n",
    "    csvwriter.writerow([\"Beginning Data Retrieval\"])\n",
    "    csvwriter.writerow([\"----------------------------\"])\n",
    "\n",
    "    #Loop 500 times to generate 500 random lat/lng coordinates and store them in params \n",
    "    for x in range(0,500):\n",
    "\n",
    "        #generate random lat coordinates (bound between -85 and 85) and lng coordinates (bound between -180 and 180)\n",
    "        lat = random.randint(-85, 85)\n",
    "        lng = random.randint(-180, 180)\n",
    "\n",
    "        #use the citypy library to generate the nearest city from the coordinates\n",
    "        city = citipy.nearest_city(lat, lng).city_name\n",
    "        #set params for query URL \n",
    "        params = {\n",
    "            \"appid\": api_key,\n",
    "            \"units\": \"imperial\",\n",
    "            \"q\": city\n",
    "        }\n",
    "\n",
    "        # Build the endpoint URL \n",
    "        base_url = \"http://api.openweathermap.org/data/2.5/weather?\"\n",
    "\n",
    "        # Run a request to endpoint and get url\n",
    "        weather_data = requests.get(base_url, params=params)\n",
    "\n",
    "        #write the results to csv \n",
    "    #     with open('cities_url_log.csv', 'w', newline='') as newfile:\n",
    "\n",
    "    #         csvwriter = csv.writer(newfile, delimiter=',')\n",
    "\n",
    "        csvwriter.writerow([f\"Processing City {x+1} | {city}\"])\n",
    "        csvwriter.writerow([weather_data.url])\n",
    "\n",
    "\n"
   ]
  },
  {
   "cell_type": "code",
   "execution_count": null,
   "metadata": {
    "collapsed": true
   },
   "outputs": [],
   "source": []
  }
 ],
 "metadata": {
  "kernelspec": {
   "display_name": "Python [conda env:PythonData]",
   "language": "python",
   "name": "conda-env-PythonData-py"
  },
  "language_info": {
   "codemirror_mode": {
    "name": "ipython",
    "version": 3
   },
   "file_extension": ".py",
   "mimetype": "text/x-python",
   "name": "python",
   "nbconvert_exporter": "python",
   "pygments_lexer": "ipython3",
   "version": "3.6.4"
  }
 },
 "nbformat": 4,
 "nbformat_minor": 2
}
